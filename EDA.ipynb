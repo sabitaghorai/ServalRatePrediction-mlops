{
  "cells": [
    {
      "cell_type": "markdown",
      "metadata": {
        "id": "C8p09zqLlg2y"
      },
      "source": [
        "**Understand the Data:**"
      ]
    },
    {
      "cell_type": "code",
      "execution_count": 39,
      "metadata": {
        "colab": {
          "base_uri": "https://localhost:8080/"
        },
        "id": "RaFGSf_akc5j",
        "outputId": "cf137a6d-ae76-4093-d56f-adbcdd440957"
      },
      "outputs": [
        {
          "name": "stdout",
          "output_type": "stream",
          "text": [
            "         age  death     sex  hospdead  slos  d.time            dzgroup  \\\n",
            "0  85.655945      1    male         0    12      63        Lung Cancer   \n",
            "1  42.258972      1  female         0     8     370       Colon Cancer   \n",
            "2  43.539978      0  female         0   115    2022  ARF/MOSF w/Sepsis   \n",
            "3  45.417999      1    male         0     7     827        Lung Cancer   \n",
            "4  63.662994      1  female         1    14      14  ARF/MOSF w/Sepsis   \n",
            "\n",
            "    dzclass  num.co   edu  ...      crea  sod        ph  glucose  bun  urine  \\\n",
            "0    Cancer       2  12.0  ...  1.000000  143  7.449219      NaN  NaN    NaN   \n",
            "1    Cancer       0  11.0  ...  0.799927  139       NaN      NaN  NaN    NaN   \n",
            "2  ARF/MOSF       1   NaN  ...  0.599976  134  7.399414      NaN  NaN    NaN   \n",
            "3    Cancer       2   NaN  ...  1.099854  137  7.489258      NaN  NaN    NaN   \n",
            "4  ARF/MOSF       0  22.0  ...  2.899902  130  7.449219      NaN  NaN    NaN   \n",
            "\n",
            "  adlp  adls             sfdm2     adlsc  \n",
            "0  NaN   7.0               NaN  7.000000  \n",
            "1  0.0   NaN               NaN  0.494800  \n",
            "2  NaN   NaN           SIP>=30  2.764160  \n",
            "3  NaN   NaN               NaN  3.351562  \n",
            "4  NaN   0.0  <2 mo. follow-up  0.000000  \n",
            "\n",
            "[5 rows x 35 columns]\n",
            "<class 'pandas.core.frame.DataFrame'>\n",
            "RangeIndex: 2000 entries, 0 to 1999\n",
            "Data columns (total 35 columns):\n",
            " #   Column    Non-Null Count  Dtype  \n",
            "---  ------    --------------  -----  \n",
            " 0   age       2000 non-null   float64\n",
            " 1   death     2000 non-null   int64  \n",
            " 2   sex       2000 non-null   object \n",
            " 3   hospdead  2000 non-null   int64  \n",
            " 4   slos      2000 non-null   int64  \n",
            " 5   d.time    2000 non-null   int64  \n",
            " 6   dzgroup   2000 non-null   object \n",
            " 7   dzclass   2000 non-null   object \n",
            " 8   num.co    2000 non-null   int64  \n",
            " 9   edu       1596 non-null   float64\n",
            " 10  income    1302 non-null   object \n",
            " 11  scoma     2000 non-null   int64  \n",
            " 12  charges   1950 non-null   float64\n",
            " 13  totcst    1790 non-null   float64\n",
            " 14  totmcst   1256 non-null   float64\n",
            " 15  avtisst   1988 non-null   float64\n",
            " 16  race      1990 non-null   object \n",
            " 17  meanbp    2000 non-null   int64  \n",
            " 18  wblc      1952 non-null   float64\n",
            " 19  hrt       2000 non-null   int64  \n",
            " 20  resp      2000 non-null   int64  \n",
            " 21  temp      2000 non-null   float64\n",
            " 22  pafi      1494 non-null   float64\n",
            " 23  alb       1244 non-null   float64\n",
            " 24  bili      1406 non-null   float64\n",
            " 25  crea      1994 non-null   float64\n",
            " 26  sod       2000 non-null   int64  \n",
            " 27  ph        1500 non-null   float64\n",
            " 28  glucose   1060 non-null   float64\n",
            " 29  bun       1090 non-null   float64\n",
            " 30  urine     966 non-null    float64\n",
            " 31  adlp      732 non-null    float64\n",
            " 32  adls      1380 non-null   float64\n",
            " 33  sfdm2     1682 non-null   object \n",
            " 34  adlsc     2000 non-null   float64\n",
            "dtypes: float64(19), int64(10), object(6)\n",
            "memory usage: 547.0+ KB\n",
            "None\n",
            "(2000, 35)\n"
          ]
        }
      ],
      "source": [
        "import pandas as pd\n",
        "\n",
        "# Load the dataset\n",
        "data = pd.read_csv('data/ServivalRate.csv')\n",
        "\n",
        "# Display the first few rows to get a sense of the data\n",
        "print(data.head())\n",
        "\n",
        "# Get information about the columns and data types\n",
        "print(data.info())\n",
        "\n",
        "# Check the shape of the dataset (number of rows and columns)\n",
        "print(data.shape)\n"
      ]
    },
    {
      "cell_type": "code",
      "execution_count": 40,
      "metadata": {
        "colab": {
          "base_uri": "https://localhost:8080/"
        },
        "id": "TZFY89uRmXd_",
        "outputId": "6ed8948d-3fcc-4263-ed4b-37912d7dbfc4"
      },
      "outputs": [
        {
          "name": "stdout",
          "output_type": "stream",
          "text": [
            "age            0\n",
            "death          0\n",
            "sex            0\n",
            "hospdead       0\n",
            "slos           0\n",
            "d.time         0\n",
            "dzgroup        0\n",
            "dzclass        0\n",
            "num.co         0\n",
            "edu          404\n",
            "income       698\n",
            "scoma          0\n",
            "charges       50\n",
            "totcst       210\n",
            "totmcst      744\n",
            "avtisst       12\n",
            "race          10\n",
            "meanbp         0\n",
            "wblc          48\n",
            "hrt            0\n",
            "resp           0\n",
            "temp           0\n",
            "pafi         506\n",
            "alb          756\n",
            "bili         594\n",
            "crea           6\n",
            "sod            0\n",
            "ph           500\n",
            "glucose      940\n",
            "bun          910\n",
            "urine       1034\n",
            "adlp        1268\n",
            "adls         620\n",
            "sfdm2        318\n",
            "adlsc          0\n",
            "dtype: int64\n"
          ]
        }
      ],
      "source": [
        "# Check for missing values in each column\n",
        "missing_values = data.isnull().sum()\n",
        "print(missing_values)\n"
      ]
    },
    {
      "cell_type": "markdown",
      "metadata": {
        "id": "dILEq08FmeCO"
      },
      "source": [
        "**Data Summaries:**"
      ]
    },
    {
      "cell_type": "code",
      "execution_count": 41,
      "metadata": {
        "colab": {
          "base_uri": "https://localhost:8080/"
        },
        "id": "oYA9MtTfmik7",
        "outputId": "43f7c81a-7058-4452-b137-1c6916131a5a"
      },
      "outputs": [
        {
          "name": "stdout",
          "output_type": "stream",
          "text": [
            "               age        death    hospdead         slos       d.time  \\\n",
            "count  2000.000000  2000.000000  2000.00000  2000.000000  2000.000000   \n",
            "mean     62.473128     0.668000     0.25300    17.855000   475.697000   \n",
            "std      16.110197     0.471049     0.43484    22.153089   554.660496   \n",
            "min      18.041992     0.000000     0.00000     3.000000     3.000000   \n",
            "25%      51.810989     0.000000     0.00000     6.000000    27.000000   \n",
            "50%      64.896484     1.000000     0.00000    11.000000   256.500000   \n",
            "75%      74.498215     1.000000     1.00000    20.000000   725.000000   \n",
            "max     101.847961     1.000000     1.00000   241.000000  2029.000000   \n",
            "\n",
            "          num.co          edu        scoma        charges         totcst  ...  \\\n",
            "count  2000.0000  1596.000000  2000.000000    1950.000000    1790.000000  ...   \n",
            "mean      1.8860    11.775689    11.743000   56271.208165   30489.924247  ...   \n",
            "std       1.3483     3.606133    24.311818   83333.136369   43454.208112  ...   \n",
            "min       0.0000     0.000000     0.000000    1635.750000       0.000000  ...   \n",
            "25%       1.0000    10.000000     0.000000   10006.423828    5897.631836  ...   \n",
            "50%       2.0000    12.000000     0.000000   26499.000000   15110.117188  ...   \n",
            "75%       3.0000    14.000000     9.000000   63622.093750   37636.062500  ...   \n",
            "max       7.0000    30.000000   100.000000  740010.000000  390460.500000  ...   \n",
            "\n",
            "              bili         crea          sod           ph      glucose  \\\n",
            "count  1406.000000  1994.000000  2000.000000  1500.000000  1060.000000   \n",
            "mean      2.527006     1.807592   137.684000     7.415642   156.401887   \n",
            "std       5.062840     1.710397     6.129676     0.079090    84.866694   \n",
            "min       0.099991     0.299988   118.000000     6.959961    11.000000   \n",
            "25%       0.500000     0.899902   134.000000     7.379883   100.000000   \n",
            "50%       0.799927     1.199951   137.000000     7.419922   128.000000   \n",
            "75%       1.799805     1.899902   141.000000     7.469727   185.000000   \n",
            "max      50.093750    11.798828   175.000000     7.669922   598.000000   \n",
            "\n",
            "               bun        urine        adlp         adls        adlsc  \n",
            "count  1090.000000   966.000000  732.000000  1380.000000  2000.000000  \n",
            "mean     32.611009  2193.962733    1.245902     1.755072     1.980375  \n",
            "std      26.418109  1450.203328    1.838834     2.230908     1.999971  \n",
            "min       1.000000     0.000000    0.000000     0.000000     0.000000  \n",
            "25%      14.000000  1207.750000    0.000000     0.000000     0.000000  \n",
            "50%      23.000000  1925.000000    0.000000     1.000000     1.669556  \n",
            "75%      43.000000  2900.000000    2.000000     3.000000     3.041748  \n",
            "max     146.000000  7750.000000    7.000000     7.000000     7.000000  \n",
            "\n",
            "[8 rows x 29 columns]\n"
          ]
        }
      ],
      "source": [
        "# Basic statistics for numerical columns\n",
        "numerical_summary = data.describe()\n",
        "print(numerical_summary)\n"
      ]
    },
    {
      "cell_type": "code",
      "execution_count": 42,
      "metadata": {},
      "outputs": [
        {
          "name": "stdout",
          "output_type": "stream",
          "text": [
            "            age  death     sex  hospdead  slos  d.time            dzgroup  \\\n",
            "0     85.655945      1    male         0    12      63        Lung Cancer   \n",
            "1     42.258972      1  female         0     8     370       Colon Cancer   \n",
            "2     43.539978      0  female         0   115    2022  ARF/MOSF w/Sepsis   \n",
            "3     45.417999      1    male         0     7     827        Lung Cancer   \n",
            "4     63.662994      1  female         1    14      14  ARF/MOSF w/Sepsis   \n",
            "...         ...    ...     ...       ...   ...     ...                ...   \n",
            "1995  76.727966      1    male         0     4     242        Lung Cancer   \n",
            "1996  18.414993      0    male         0     9     380  ARF/MOSF w/Sepsis   \n",
            "1997  74.619995      0    male         0     9     361                CHF   \n",
            "1998  75.947998      0    male         0    13     359  ARF/MOSF w/Sepsis   \n",
            "1999  18.041992      0  female         0    12     358       MOSF w/Malig   \n",
            "\n",
            "                 dzclass  num.co  scoma  ...  avtisst      race  meanbp  \\\n",
            "0                 Cancer       2     26  ...     8.50     black      97   \n",
            "1                 Cancer       0      0  ...     8.00  hispanic      84   \n",
            "2               ARF/MOSF       1     26  ...    38.25     white      67   \n",
            "3                 Cancer       2      0  ...     7.00     white      97   \n",
            "4               ARF/MOSF       0     26  ...    40.00     white      69   \n",
            "...                  ...     ...    ...  ...      ...       ...     ...   \n",
            "1995              Cancer       1      0  ...    10.00     white     119   \n",
            "1996            ARF/MOSF       1      0  ...    23.00     white      67   \n",
            "1997  COPD/CHF/Cirrhosis       5      0  ...    10.00     white      64   \n",
            "1998            ARF/MOSF       2     26  ...    14.50     white      75   \n",
            "1999            ARF/MOSF       0      0  ...    18.00     white      70   \n",
            "\n",
            "           wblc  hrt  resp       temp      crea  sod     adlsc  \n",
            "0      9.699219   56    20  36.593750  1.000000  143  7.000000  \n",
            "1     11.298828   94    20  38.195312  0.799927  139  0.494800  \n",
            "2     24.597656  172    20  38.796875  0.599976  134  2.764160  \n",
            "3     10.798828  100    24  37.296875  1.099854  137  3.351562  \n",
            "4     30.097656  108    22  36.695312  2.899902  130  0.000000  \n",
            "...         ...  ...   ...        ...       ...  ...       ...  \n",
            "1995   6.000000   77    20  36.593750  1.599854  140  1.775391  \n",
            "1996  12.099609   66    15  36.398438  0.799927  131  0.000000  \n",
            "1997   6.799805  114    24  36.195312  1.099854  138  0.000000  \n",
            "1998   8.099609  145    24  37.796875  1.199951  128  2.000000  \n",
            "1999   0.899902   73    28  35.695312  1.799805  135  2.147461  \n",
            "\n",
            "[2000 rows x 22 columns]\n"
          ]
        }
      ],
      "source": [
        "\n",
        "# Set the threshold for null values (e.g., 15%)\n",
        "null_threshold = 0.15\n",
        "\n",
        "# Calculate the percentage of null values for each column\n",
        "null_percentages = data.isnull().mean()\n",
        "\n",
        "# Filter columns based on the null threshold\n",
        "columns_to_drop = null_percentages[null_percentages > null_threshold].index.tolist()\n",
        "\n",
        "# Drop selected columns and return the modified DataFrame\n",
        "data = data.drop(columns=columns_to_drop)\n",
        "\n",
        "# Display the modified DataFrame\n",
        "print(data)\n"
      ]
    },
    {
      "cell_type": "code",
      "execution_count": 43,
      "metadata": {},
      "outputs": [
        {
          "data": {
            "text/plain": [
              "Index(['age', 'death', 'sex', 'hospdead', 'slos', 'd.time', 'dzgroup',\n",
              "       'dzclass', 'num.co', 'scoma', 'charges', 'totcst', 'avtisst', 'race',\n",
              "       'meanbp', 'wblc', 'hrt', 'resp', 'temp', 'crea', 'sod', 'adlsc'],\n",
              "      dtype='object')"
            ]
          },
          "execution_count": 43,
          "metadata": {},
          "output_type": "execute_result"
        }
      ],
      "source": [
        "data.columns"
      ]
    },
    {
      "cell_type": "code",
      "execution_count": 44,
      "metadata": {},
      "outputs": [
        {
          "data": {
            "text/plain": [
              "22"
            ]
          },
          "execution_count": 44,
          "metadata": {},
          "output_type": "execute_result"
        }
      ],
      "source": [
        "len(data.columns)"
      ]
    },
    {
      "cell_type": "markdown",
      "metadata": {},
      "source": [
        "sex-male,female\n",
        "dzgroup-ARF/MOSF w/Sepsis,CHF,Lung Cancer ,MOSF w/Malig,\n",
        "Coma                 120\n",
        "Cirrhosis            110\n",
        "Colon Cancer          98"
      ]
    },
    {
      "cell_type": "code",
      "execution_count": 49,
      "metadata": {},
      "outputs": [
        {
          "name": "stdout",
          "output_type": "stream",
          "text": [
            "Unique values for 'sex': ['male' 'female']\n",
            "Unique values for 'dzgroup': ['Lung Cancer' 'Colon Cancer' 'ARF/MOSF w/Sepsis' 'MOSF w/Malig'\n",
            " 'Cirrhosis' 'CHF' 'COPD' 'Coma']\n",
            "Unique values for 'dzclass': ['Cancer' 'ARF/MOSF' 'COPD/CHF/Cirrhosis' 'Coma']\n",
            "Unique values for 'race': ['black' 'hispanic' 'white' 'other' 'asian' nan]\n"
          ]
        }
      ],
      "source": [
        "categorical_columns = data.select_dtypes(include=['object']).columns\n",
        "\n",
        "unique_values_dict = {}\n",
        "for column in categorical_columns:\n",
        "    unique_values_dict[column] = data[column].unique()\n",
        "\n",
        "# Display or print the unique values for each categorical column\n",
        "for column, unique_values in unique_values_dict.items():\n",
        "    print(f\"Unique values for '{column}': {unique_values}\")\n"
      ]
    },
    {
      "cell_type": "code",
      "execution_count": 50,
      "metadata": {},
      "outputs": [
        {
          "name": "stdout",
          "output_type": "stream",
          "text": [
            "Numerical columns: Index(['age', 'death', 'hospdead', 'slos', 'd.time', 'num.co', 'scoma',\n",
            "       'charges', 'totcst', 'avtisst', 'meanbp', 'wblc', 'hrt', 'resp', 'temp',\n",
            "       'crea', 'sod', 'adlsc'],\n",
            "      dtype='object')\n"
          ]
        }
      ],
      "source": [
        "numerical_columns = data.select_dtypes(include='number').columns\n",
        "\n",
        "# Display or print the numerical columns\n",
        "print(\"Numerical columns:\", numerical_columns)\n"
      ]
    },
    {
      "cell_type": "code",
      "execution_count": 24,
      "metadata": {},
      "outputs": [],
      "source": [
        "from sklearn.model_selection import train_test_split\n",
        "from sklearn.preprocessing import LabelEncoder\n",
        "from sklearn import preprocessing"
      ]
    },
    {
      "cell_type": "code",
      "execution_count": 25,
      "metadata": {},
      "outputs": [],
      "source": [
        "import logging\n",
        "from abc import ABC, abstractmethod\n",
        "from typing import Union"
      ]
    },
    {
      "cell_type": "code",
      "execution_count": 26,
      "metadata": {},
      "outputs": [],
      "source": [
        "def handle_data(data: pd.DataFrame) -> pd.DataFrame:\n",
        "        \"\"\"\n",
        "        Preprocessing data\n",
        "        \"\"\"\n",
        "        try:\n",
        "            # Set the threshold for null values (e.g., 15%)\n",
        "            null_threshold = 0.15\n",
        "\n",
        "            # Calculate the percentage of null values for each column\n",
        "            null_percentages = data.isnull().mean()\n",
        "\n",
        "            # Filter columns based on the null threshold\n",
        "            columns_to_drop = null_percentages[null_percentages > null_threshold].index.tolist()\n",
        "\n",
        "            # Drop selected columns and return the modified DataFrame\n",
        "            data = data.drop(columns=columns_to_drop)\n",
        "\n",
        "            data[\"race\"].fillna(data[\"race\"].mode(),inplace=True)\n",
        "            data[\"charges\"].fillna(data[\"charges\"].median(),inplace=True)\n",
        "            data[\"totcst\"].fillna(data[\"totcst\"].median(),inplace=True)\n",
        "            data[\"avtisst\"].fillna(data[\"avtisst\"].median(),inplace=True)\n",
        "            data[\"wblc\"].fillna(data[\"wblc\"].median(),inplace=True)\n",
        "            data[\"crea\"].fillna(data[\"crea\"].median(),inplace=True)  \n",
        "            data = data.drop(\n",
        "                [\n",
        "                    \"hospdead\"\n",
        "                   \n",
        "                ],axis=1\n",
        "            )\n",
        "            data=data.dropna()\n",
        "            # le = LabelEncoder()\n",
        "            # data['sex'] = le.fit_transform(data['sex'])\n",
        "            # data['dzgroup'] = le.fit_transform(data['dzgroup'])\n",
        "            # data['dzclass'] = le.fit_transform(data['dzclass'])\n",
        "            # data['race'] = le.fit_transform(data['race'])\n",
        "            # return data\n",
        "    \n",
        "        except Exception as e:\n",
        "            logging.error(\"Error in preprocessing data: {}\".format(e))\n",
        "            raise e\n"
      ]
    },
    {
      "cell_type": "code",
      "execution_count": 27,
      "metadata": {},
      "outputs": [],
      "source": [
        "data=handle_data(data)"
      ]
    },
    {
      "cell_type": "code",
      "execution_count": 28,
      "metadata": {},
      "outputs": [
        {
          "data": {
            "text/plain": [
              "Index(['age', 'death', 'sex', 'slos', 'd.time', 'dzgroup', 'dzclass', 'num.co',\n",
              "       'scoma', 'charges', 'totcst', 'avtisst', 'race', 'meanbp', 'wblc',\n",
              "       'hrt', 'resp', 'temp', 'crea', 'sod', 'adlsc'],\n",
              "      dtype='object')"
            ]
          },
          "execution_count": 28,
          "metadata": {},
          "output_type": "execute_result"
        }
      ],
      "source": [
        "data.columns"
      ]
    },
    {
      "cell_type": "code",
      "execution_count": 31,
      "metadata": {},
      "outputs": [],
      "source": [
        "column_to_drop = 'death'\n",
        "data = data.drop(columns=[column_to_drop])"
      ]
    },
    {
      "cell_type": "code",
      "execution_count": 32,
      "metadata": {},
      "outputs": [
        {
          "data": {
            "text/plain": [
              "Index(['age', 'sex', 'slos', 'd.time', 'dzgroup', 'dzclass', 'num.co', 'scoma',\n",
              "       'charges', 'totcst', 'avtisst', 'race', 'meanbp', 'wblc', 'hrt', 'resp',\n",
              "       'temp', 'crea', 'sod', 'adlsc'],\n",
              "      dtype='object')"
            ]
          },
          "execution_count": 32,
          "metadata": {},
          "output_type": "execute_result"
        }
      ],
      "source": [
        "data.columns"
      ]
    },
    {
      "cell_type": "code",
      "execution_count": 13,
      "metadata": {},
      "outputs": [],
      "source": [
        "columns_for_df = [\n",
        "          'age', \n",
        "          'sex', \n",
        "          'slos', \n",
        "          'd.time', \n",
        "          'dzgroup', \n",
        "          'dzclass', \n",
        "          'num.co',\n",
        "          'scoma', \n",
        "          'charges',\n",
        "            'totcst', \n",
        "            'avtisst', \n",
        "            'race', \n",
        "            'meanbp',\n",
        "            'wblc',\n",
        "            'hrt', \n",
        "            'resp', \n",
        "            'temp',\n",
        "            'crea', \n",
        "            'sod', \n",
        "            'adlsc'\n",
        "        \n",
        "    ]\n",
        "data=['age',  'sex', 'slos', 'd.time', 'dzgroup', 'dzclass', 'num.co',\n",
        "       'scoma', 'charges', 'totcst', 'avtisst', 'race', 'meanbp', 'wblc',\n",
        "       'hrt', 'resp', 'temp', 'crea', 'sod', 'adlsc']"
      ]
    },
    {
      "cell_type": "code",
      "execution_count": 14,
      "metadata": {},
      "outputs": [
        {
          "data": {
            "text/plain": [
              "True"
            ]
          },
          "execution_count": 14,
          "metadata": {},
          "output_type": "execute_result"
        }
      ],
      "source": [
        "columns_for_df==data"
      ]
    },
    {
      "cell_type": "code",
      "execution_count": 33,
      "metadata": {},
      "outputs": [
        {
          "name": "stdout",
          "output_type": "stream",
          "text": [
            "Categorical Columns:\n",
            "Index([], dtype='object')\n"
          ]
        }
      ],
      "source": [
        "categorical_columns = data.select_dtypes(include=['object']).columns\n",
        "print(\"Categorical Columns:\")\n",
        "print(categorical_columns)\n"
      ]
    },
    {
      "cell_type": "code",
      "execution_count": 20,
      "metadata": {},
      "outputs": [
        {
          "name": "stdout",
          "output_type": "stream",
          "text": [
            "Columns with Missing Values:\n",
            "Index(['charges', 'totcst', 'avtisst', 'race', 'wblc', 'crea'], dtype='object')\n"
          ]
        }
      ],
      "source": [
        "columns_with_missing_values = data.columns[data.isnull().any()]\n",
        "\n",
        "print(\"Columns with Missing Values:\")\n",
        "print(columns_with_missing_values)"
      ]
    },
    {
      "cell_type": "code",
      "execution_count": 21,
      "metadata": {},
      "outputs": [],
      "source": [
        "data = data.drop(\n",
        "                [\n",
        "                    \"hospdead\"\n",
        "                   \n",
        "                ],axis=1\n",
        "            )"
      ]
    },
    {
      "cell_type": "code",
      "execution_count": 22,
      "metadata": {},
      "outputs": [
        {
          "data": {
            "text/plain": [
              "Index(['age', 'death', 'sex', 'slos', 'd.time', 'dzgroup', 'dzclass', 'num.co',\n",
              "       'scoma', 'charges', 'totcst', 'avtisst', 'race', 'meanbp', 'wblc',\n",
              "       'hrt', 'resp', 'temp', 'crea', 'sod', 'adlsc'],\n",
              "      dtype='object')"
            ]
          },
          "execution_count": 22,
          "metadata": {},
          "output_type": "execute_result"
        }
      ],
      "source": [
        "data.columns"
      ]
    },
    {
      "cell_type": "code",
      "execution_count": 23,
      "metadata": {},
      "outputs": [
        {
          "name": "stdout",
          "output_type": "stream",
          "text": [
            "            age  death     sex  slos  d.time            dzgroup  \\\n",
            "0     85.655945      1    male    12      63        Lung Cancer   \n",
            "1     42.258972      1  female     8     370       Colon Cancer   \n",
            "2     43.539978      0  female   115    2022  ARF/MOSF w/Sepsis   \n",
            "3     45.417999      1    male     7     827        Lung Cancer   \n",
            "4     63.662994      1  female    14      14  ARF/MOSF w/Sepsis   \n",
            "...         ...    ...     ...   ...     ...                ...   \n",
            "1995  76.727966      1    male     4     242        Lung Cancer   \n",
            "1996  18.414993      0    male     9     380  ARF/MOSF w/Sepsis   \n",
            "1997  74.619995      0    male     9     361                CHF   \n",
            "1998  75.947998      0    male    13     359  ARF/MOSF w/Sepsis   \n",
            "1999  18.041992      0  female    12     358       MOSF w/Malig   \n",
            "\n",
            "                 dzclass  num.co  scoma   charges  ...  avtisst      race  \\\n",
            "0                 Cancer       2     26       NaN  ...     8.50     black   \n",
            "1                 Cancer       0      0    9914.0  ...     8.00  hispanic   \n",
            "2               ARF/MOSF       1     26  706577.0  ...    38.25     white   \n",
            "3                 Cancer       2      0    8400.0  ...     7.00     white   \n",
            "4               ARF/MOSF       0     26  283303.0  ...    40.00     white   \n",
            "...                  ...     ...    ...       ...  ...      ...       ...   \n",
            "1995              Cancer       1      0   10134.0  ...    10.00     white   \n",
            "1996            ARF/MOSF       1      0   22047.0  ...    23.00     white   \n",
            "1997  COPD/CHF/Cirrhosis       5      0    6963.0  ...    10.00     white   \n",
            "1998            ARF/MOSF       2     26   25038.0  ...    14.50     white   \n",
            "1999            ARF/MOSF       0      0   32141.0  ...    18.00     white   \n",
            "\n",
            "     meanbp       wblc  hrt  resp       temp      crea  sod     adlsc  \n",
            "0        97   9.699219   56    20  36.593750  1.000000  143  7.000000  \n",
            "1        84  11.298828   94    20  38.195312  0.799927  139  0.494800  \n",
            "2        67  24.597656  172    20  38.796875  0.599976  134  2.764160  \n",
            "3        97  10.798828  100    24  37.296875  1.099854  137  3.351562  \n",
            "4        69  30.097656  108    22  36.695312  2.899902  130  0.000000  \n",
            "...     ...        ...  ...   ...        ...       ...  ...       ...  \n",
            "1995    119   6.000000   77    20  36.593750  1.599854  140  1.775391  \n",
            "1996     67  12.099609   66    15  36.398438  0.799927  131  0.000000  \n",
            "1997     64   6.799805  114    24  36.195312  1.099854  138  0.000000  \n",
            "1998     75   8.099609  145    24  37.796875  1.199951  128  2.000000  \n",
            "1999     70   0.899902   73    28  35.695312  1.799805  135  2.147461  \n",
            "\n",
            "[2000 rows x 21 columns]\n"
          ]
        }
      ],
      "source": [
        "print(data)\n"
      ]
    },
    {
      "cell_type": "code",
      "execution_count": null,
      "metadata": {},
      "outputs": [],
      "source": []
    },
    {
      "cell_type": "code",
      "execution_count": null,
      "metadata": {},
      "outputs": [],
      "source": []
    }
  ],
  "metadata": {
    "colab": {
      "provenance": []
    },
    "kernelspec": {
      "display_name": "Python 3",
      "name": "python3"
    },
    "language_info": {
      "codemirror_mode": {
        "name": "ipython",
        "version": 3
      },
      "file_extension": ".py",
      "mimetype": "text/x-python",
      "name": "python",
      "nbconvert_exporter": "python",
      "pygments_lexer": "ipython3",
      "version": "3.10.12"
    }
  },
  "nbformat": 4,
  "nbformat_minor": 0
}
